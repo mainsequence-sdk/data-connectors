{
 "cells": [
  {
   "metadata": {},
   "cell_type": "code",
   "source": [
    "import os\n",
    "from data_connectors.interest_rates.nodes import (DiscountCurves,CurveConfig,\n",
    "                                                  TIIE_28_ZERO_CURVE,)\n",
    "from mainsequence.instruments.settings import ( M_BONOS_ZERO_CURVE)\n",
    "from data_connectors.prices.banxico.settings import ON_THE_RUN_DATA_NODE_UID\n",
    "\n",
    "token = os.getenv(\"BANXICO_TOKEN\")\n",
    "if not token:\n",
    "    raise RuntimeError(\"BANXICO_TOKEN environment variable is required for Banxico SIE access.\")\n",
    "    \n",
    "config = CurveConfig(\n",
    "  unique_identifier=TIIE_28_ZERO_CURVE,\n",
    "  name=\"Discount Curve TIIE 28 Mexder Valmer\",\n",
    ")\n",
    "node = DiscountCurves(curve_config=config)\n",
    "node.run(debug_mode=True, force_update=True)\n",
    "\n",
    "config = CurveConfig(\n",
    "  unique_identifier=M_BONOS_ZERO_CURVE,\n",
    "  name=\"Discount Curve M Bonos Banxico Boostrapped\",\n",
    "  curve_points_dependecy_data_node_uid=ON_THE_RUN_DATA_NODE_UID\n",
    ")\n",
    "node = DiscountCurves(curve_config=config)\n",
    "node.run(debug_mode=True, force_update=True)"
   ],
   "id": "6194f0a6d877f30c",
   "outputs": [],
   "execution_count": null
  }
 ],
 "metadata": {
  "kernelspec": {
   "display_name": "Python 3 (ipykernel)",
   "language": "python",
   "name": "python3"
  },
  "language_info": {
   "codemirror_mode": {
    "name": "ipython",
    "version": 3
   },
   "file_extension": ".py",
   "mimetype": "text/x-python",
   "name": "python",
   "nbconvert_exporter": "python",
   "pygments_lexer": "ipython3",
   "version": "3.9.13"
  }
 },
 "nbformat": 4,
 "nbformat_minor": 5
}
