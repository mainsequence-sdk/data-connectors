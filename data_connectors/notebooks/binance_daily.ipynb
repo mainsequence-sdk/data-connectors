{
 "cells": [
  {
   "cell_type": "code",
   "id": "initial_id",
   "metadata": {
    "collapsed": true
   },
   "source": [
    "from dotenv import load_dotenv\n",
    "import os\n",
    "if os.environ.get(\"VFB_ENV_PATH\", None) is None:\n",
    "    load_dotenv('../../.env')\n",
    "from data_connectors.prices.binance.time_series import BinanceHistoricalBars, TimeBarConfig\n",
    "\n",
    "ts = BinanceHistoricalBars(asset_list=None, bar_configuration=TimeBarConfig(frequency_id=\"1d\"))\n",
    "ts.run(debug_mode=True, update_tree=True, force_update=True)"
   ],
   "outputs": [],
   "execution_count": null
  },
  {
   "metadata": {},
   "cell_type": "code",
   "source": "",
   "id": "58831f349a8f5fd3",
   "outputs": [],
   "execution_count": null
  }
 ],
 "metadata": {
  "kernelspec": {
   "display_name": "Python 3",
   "language": "python",
   "name": "python3"
  },
  "language_info": {
   "codemirror_mode": {
    "name": "ipython",
    "version": 2
   },
   "file_extension": ".py",
   "mimetype": "text/x-python",
   "name": "python",
   "nbconvert_exporter": "python",
   "pygments_lexer": "ipython2",
   "version": "2.7.6"
  }
 },
 "nbformat": 4,
 "nbformat_minor": 5
}
