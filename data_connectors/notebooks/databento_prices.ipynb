{
 "cells": [
  {
   "metadata": {},
   "cell_type": "code",
   "outputs": [],
   "execution_count": null,
   "source": [
    "import os\n",
    "from dotenv import load_dotenv\n",
    "from pathlib import Path\n",
    "\n",
    "project_root = Path(__file__).resolve().parents[1]\n",
    "env_path = project_root / '.env'\n",
    "\n",
    "if env_path.exists():\n",
    "    print(f\"Loading environment variables from {env_path}\")\n",
    "    load_dotenv(dotenv_path=env_path)\n",
    "else:\n",
    "    print(f\"Warning: .env file not found at {env_path}. Make sure environment variables are set.\")\n",
    "\n",
    "from data_connectors.prices.databento.time_series import DatabentoHistoricalBars\n",
    "\n",
    "print(\"--- Starting Databento Price Connector ---\")\n",
    "ts = DatabentoHistoricalBars(\n",
    "    asset_list=None,\n",
    "    frequency_id=\"1d\",\n",
    "    dataset=\"XNAS.ITCH\"\n",
    ")\n",
    "ts.run(debug_mode=True, update_tree=True, force_update=True)\n",
    "\n",
    "print(\"--- Databento Price Connector Finished ---\")"
   ],
   "id": "7086a64f05f522b8"
  }
 ],
 "metadata": {
  "kernelspec": {
   "display_name": "Python 3",
   "language": "python",
   "name": "python3"
  },
  "language_info": {
   "codemirror_mode": {
    "name": "ipython",
    "version": 2
   },
   "file_extension": ".py",
   "mimetype": "text/x-python",
   "name": "python",
   "nbconvert_exporter": "python",
   "pygments_lexer": "ipython2",
   "version": "2.7.6"
  }
 },
 "nbformat": 4,
 "nbformat_minor": 5
}
