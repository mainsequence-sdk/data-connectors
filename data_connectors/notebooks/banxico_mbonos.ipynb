{
 "cells": [
  {
   "metadata": {},
   "cell_type": "code",
   "source": [
    "import os\n",
    "\n",
    "from data_connectors.prices.banxico.data_nodes import BanxicoMXNOTR\n",
    "token = os.getenv(\"BANXICO_TOKEN\")\n",
    "if not token:\n",
    "    raise RuntimeError(\"BANXICO_TOKEN environment variable is required for Banxico SIE access.\")\n",
    "ts = BanxicoMXNOTR()\n",
    "ts.run(debug_mode=True, force_update=True)"
   ],
   "id": "6194f0a6d877f30c",
   "outputs": [],
   "execution_count": null
  }
 ],
 "metadata": {
  "kernelspec": {
   "display_name": "Python 3 (ipykernel)",
   "language": "python",
   "name": "python3"
  },
  "language_info": {
   "codemirror_mode": {
    "name": "ipython",
    "version": 3
   },
   "file_extension": ".py",
   "mimetype": "text/x-python",
   "name": "python",
   "nbconvert_exporter": "python",
   "pygments_lexer": "ipython3",
   "version": "3.9.13"
  }
 },
 "nbformat": 4,
 "nbformat_minor": 5
}
