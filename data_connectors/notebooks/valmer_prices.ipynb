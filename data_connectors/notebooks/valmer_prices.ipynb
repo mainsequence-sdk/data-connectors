{
 "cells": [
  {
   "metadata": {},
   "cell_type": "code",
   "source": [
    "from data_connectors.prices.valmer.time_series import ImportValmer\n",
    "BUCKET_NAME = \"Vector de precios\"\n",
    "\n",
    "for i in range(360//5):\n",
    "    ts_all_files = ImportValmer(\n",
    "        bucket_name=BUCKET_NAME,\n",
    "    )\n",
    "\n",
    "    ts_all_files.run(\n",
    "        debug_mode=True,\n",
    "        force_update=True,\n",
    "    )"
   ],
   "id": "6194f0a6d877f30c",
   "outputs": [],
   "execution_count": null
  }
 ],
 "metadata": {
  "kernelspec": {
   "display_name": "Python 3 (ipykernel)",
   "language": "python",
   "name": "python3"
  },
  "language_info": {
   "codemirror_mode": {
    "name": "ipython",
    "version": 3
   },
   "file_extension": ".py",
   "mimetype": "text/x-python",
   "name": "python",
   "nbconvert_exporter": "python",
   "pygments_lexer": "ipython3",
   "version": "3.9.13"
  }
 },
 "nbformat": 4,
 "nbformat_minor": 5
}
