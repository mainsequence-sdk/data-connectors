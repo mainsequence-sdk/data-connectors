{
 "cells": [
  {
   "cell_type": "code",
   "id": "initial_id",
   "metadata": {
    "tags": []
   },
   "source": [
    "from dotenv import load_dotenv\n",
    "import os\n",
    "if os.environ.get(\"VFB_ENV_PATH\", None) is None:\n",
    "    load_dotenv('../../.env')\n",
    "\n",
    "from data_connectors.prices.alpaca.time_series import AlpacaEquityBars\n",
    "from mainsequence.client import Asset\n",
    "\n",
    "\n",
    "\n",
    "assets = Asset.filter(ticker__in=[\"AAPL\", \"MSFT\", \"GOOGL\", \"AMZN\", \"FB\", \"NVDA\", \"TSLA\", \"ADBE\", \"NFLX\", \"INTC\"])\n",
    "ts = AlpacaEquityBars(asset_list=assets[:2], frequency_id=\"1d\", adjustment=\"all\")\n",
    "ts.run(debug_mode=True, update_tree=True, force_update=True)"
   ],
   "outputs": [],
   "execution_count": null
  },
  {
   "cell_type": "code",
   "id": "6cc182aade599115",
   "metadata": {},
   "source": [],
   "outputs": [],
   "execution_count": null
  }
 ],
 "metadata": {
  "kernelspec": {
   "display_name": "Python 3 (ipykernel)",
   "language": "python",
   "name": "python3"
  },
  "language_info": {
   "codemirror_mode": {
    "name": "ipython",
    "version": 3
   },
   "file_extension": ".py",
   "mimetype": "text/x-python",
   "name": "python",
   "nbconvert_exporter": "python",
   "pygments_lexer": "ipython3",
   "version": "3.9.13"
  }
 },
 "nbformat": 4,
 "nbformat_minor": 5
}
