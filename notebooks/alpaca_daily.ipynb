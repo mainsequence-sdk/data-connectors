{
 "cells": [
  {
   "metadata": {},
   "cell_type": "code",
   "outputs": [],
   "execution_count": null,
   "source": [
    "from dotenv import load_dotenv\n",
    "import os\n",
    "if os.environ.get(\"VFB_ENV_PATH\", None) is None:\n",
    "    load_dotenv('../../.env')\n",
    "\n",
    "from data_connectors.prices.alpaca.time_series import AlpacaEquityBars\n",
    "\n",
    "ts = AlpacaEquityBars(asset_list=None, frequency_id=\"1d\", adjustment=\"all\")\n",
    "ts.run(debug_mode=True, update_tree=True, force_update=True)"
   ],
   "id": "6194f0a6d877f30c"
  }
 ],
 "metadata": {
  "kernelspec": {
   "display_name": "Python 3 (ipykernel)",
   "language": "python",
   "name": "python3"
  },
  "language_info": {
   "codemirror_mode": {
    "name": "ipython",
    "version": 3
   },
   "file_extension": ".py",
   "mimetype": "text/x-python",
   "name": "python",
   "nbconvert_exporter": "python",
   "pygments_lexer": "ipython3",
   "version": "3.9.13"
  }
 },
 "nbformat": 4,
 "nbformat_minor": 5
}
