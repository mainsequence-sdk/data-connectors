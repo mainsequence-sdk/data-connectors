{
 "cells": [
  {
   "metadata": {},
   "cell_type": "code",
   "source": [
    "import os\n",
    "from data_connectors.interest_rates.nodes import FixingRatesNode,FixingRateConfig,RateConfig\n",
    "from mainsequence.instruments.settings  import (TIIE_OVERNIGHT_UID,\n",
    "                                                     TIIE_28_UID,\n",
    "                                                     TIIE_91_UID,\n",
    "                                                     TIIE_182_UID,\n",
    "                                                CETE_28_UID,CETE_91_UID,CETE_182_UID)\n",
    "\n",
    "token = os.getenv(\"BANXICO_TOKEN\")\n",
    "if not token:\n",
    "    raise RuntimeError(\"BANXICO_TOKEN environment variable is required for Banxico SIE access.\")\n",
    "fixing_config = FixingRateConfig(rates_config_list=[\n",
    "    RateConfig(unique_identifier=TIIE_OVERNIGHT_UID,\n",
    "               name=f\"Interbank Equilibrium Interest Rate (TIIE) {TIIE_OVERNIGHT_UID}\"),\n",
    "    RateConfig(unique_identifier=TIIE_28_UID, name=f\"Interbank Equilibrium Interest Rate (TIIE) {TIIE_28_UID}\"),\n",
    "    RateConfig(unique_identifier=TIIE_91_UID, name=f\"Interbank Equilibrium Interest Rate (TIIE) {TIIE_91_UID}\"),\n",
    "    RateConfig(unique_identifier=TIIE_182_UID, name=f\"Interbank Equilibrium Interest Rate (TIIE) {TIIE_182_UID}\"),\n",
    "    RateConfig(unique_identifier=CETE_28_UID, name=f\"CETE 28 days {CETE_28_UID}\"),\n",
    "    RateConfig(unique_identifier=CETE_91_UID, name=f\"CETE 28 days {CETE_91_UID}\"),\n",
    "    RateConfig(unique_identifier=CETE_182_UID, name=f\"CETE 28 days {CETE_182_UID}\"),\n",
    "  ]\n",
    ")\n",
    "\n",
    "ts = FixingRatesNode(rates_config=fixing_config)\n",
    "ts.run(debug_mode=True, force_update=True)"
   ],
   "id": "6194f0a6d877f30c",
   "outputs": [],
   "execution_count": null
  }
 ],
 "metadata": {
  "kernelspec": {
   "display_name": "Python 3 (ipykernel)",
   "language": "python",
   "name": "python3"
  },
  "language_info": {
   "codemirror_mode": {
    "name": "ipython",
    "version": 3
   },
   "file_extension": ".py",
   "mimetype": "text/x-python",
   "name": "python",
   "nbconvert_exporter": "python",
   "pygments_lexer": "ipython3",
   "version": "3.9.13"
  }
 },
 "nbformat": 4,
 "nbformat_minor": 5
}
